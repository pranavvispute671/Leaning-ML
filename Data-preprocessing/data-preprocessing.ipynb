{
 "cells": [
  {
   "cell_type": "markdown",
   "id": "78a741a8",
   "metadata": {},
   "source": [
    "IMPORT LIBRARIES"
   ]
  },
  {
   "cell_type": "code",
   "execution_count": 81,
   "id": "e8c87d56",
   "metadata": {},
   "outputs": [],
   "source": [
    "import pandas as pd\n",
    "import numpy as np\n",
    "import matplotlib.pyplot as plt\n",
    "from sklearn.impute import SimpleImputer\n",
    "from sklearn.compose import ColumnTransformer\n",
    "from sklearn.preprocessing import OneHotEncoder, LabelEncoder, StandardScaler\n",
    "from sklearn.model_selection import train_test_split"
   ]
  },
  {
   "cell_type": "markdown",
   "id": "1f195680",
   "metadata": {},
   "source": [
    "IMPORT DATASET"
   ]
  },
  {
   "cell_type": "code",
   "execution_count": 82,
   "id": "f2c166b8",
   "metadata": {},
   "outputs": [],
   "source": [
    "data = pd.read_csv(\"Data.csv\")"
   ]
  },
  {
   "cell_type": "code",
   "execution_count": 83,
   "id": "8c861c2a",
   "metadata": {},
   "outputs": [],
   "source": [
    "x = data.iloc[:,:-1].values\n",
    "y = data.iloc[:,-1].values"
   ]
  },
  {
   "cell_type": "code",
   "execution_count": 84,
   "id": "a4e19425",
   "metadata": {},
   "outputs": [],
   "source": [
    "imputer = SimpleImputer(missing_values=np.nan, strategy=\"mean\")\n",
    "imputer.fit(x[:, 1:3])\n",
    "x[:,1:3] = imputer.transform(x[:,1:3])"
   ]
  },
  {
   "cell_type": "code",
   "execution_count": 85,
   "id": "b5b72142",
   "metadata": {},
   "outputs": [
    {
     "name": "stdout",
     "output_type": "stream",
     "text": [
      "[[1.0 0.0 0.0 44.0 72000.0]\n",
      " [0.0 0.0 1.0 27.0 48000.0]\n",
      " [0.0 1.0 0.0 30.0 54000.0]\n",
      " [0.0 0.0 1.0 38.0 61000.0]\n",
      " [0.0 1.0 0.0 40.0 63777.77777777778]\n",
      " [1.0 0.0 0.0 35.0 58000.0]\n",
      " [0.0 0.0 1.0 38.77777777777778 52000.0]\n",
      " [1.0 0.0 0.0 48.0 79000.0]\n",
      " [0.0 1.0 0.0 50.0 83000.0]\n",
      " [1.0 0.0 0.0 37.0 67000.0]]\n"
     ]
    }
   ],
   "source": [
    "#Encoding the feature columns\n",
    "ct = ColumnTransformer(transformers=[('encoder',OneHotEncoder(),[0])], remainder='passthrough')\n",
    "x = np.array(ct.fit_transform(x)) # since this doesn't return a np array, we need to typeacast it\n",
    "print(x)"
   ]
  },
  {
   "cell_type": "code",
   "execution_count": 86,
   "id": "52489eb3",
   "metadata": {},
   "outputs": [],
   "source": [
    "le = LabelEncoder()\n",
    "y =le.fit_transform(y)"
   ]
  },
  {
   "cell_type": "code",
   "execution_count": 87,
   "id": "ee907f47",
   "metadata": {},
   "outputs": [],
   "source": [
    "# Splitting the data into Training Set and TEst Set\n",
    "Xtrain, Xtest, Ytrain, Ytest = train_test_split(x, y, test_size=0.2)"
   ]
  },
  {
   "cell_type": "code",
   "execution_count": null,
   "id": "2e6db0d8",
   "metadata": {},
   "outputs": [],
   "source": [
    "# Feature Scaling \n",
    "ss = StandardScaler()\n",
    "Xtrain[:,3:] = ss.fit_transform(Xtrain[:,3:])"
   ]
  },
  {
   "cell_type": "code",
   "execution_count": 90,
   "id": "95fdc7d9",
   "metadata": {},
   "outputs": [],
   "source": [
    "Xtest[:,3:] = ss.transform(Xtest[:,3:])"
   ]
  },
  {
   "cell_type": "code",
   "execution_count": null,
   "id": "30351d87",
   "metadata": {},
   "outputs": [],
   "source": []
  }
 ],
 "metadata": {
  "kernelspec": {
   "display_name": "Python 3",
   "language": "python",
   "name": "python3"
  },
  "language_info": {
   "codemirror_mode": {
    "name": "ipython",
    "version": 3
   },
   "file_extension": ".py",
   "mimetype": "text/x-python",
   "name": "python",
   "nbconvert_exporter": "python",
   "pygments_lexer": "ipython3",
   "version": "3.12.3"
  }
 },
 "nbformat": 4,
 "nbformat_minor": 5
}
