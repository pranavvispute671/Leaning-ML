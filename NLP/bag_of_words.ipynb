{
 "cells": [
  {
   "cell_type": "code",
   "execution_count": 1,
   "id": "0e8b2947",
   "metadata": {},
   "outputs": [],
   "source": [
    "import pandas as pd\n",
    "import numpy as np\n",
    "import matplotlib.pyplot as plt"
   ]
  },
  {
   "cell_type": "code",
   "execution_count": 2,
   "id": "6b151d4d",
   "metadata": {},
   "outputs": [],
   "source": [
    "data = pd.read_csv(\"Restaurant_Reviews.tsv\", delimiter = \"\\t\", quoting=3)"
   ]
  },
  {
   "cell_type": "code",
   "execution_count": 3,
   "id": "47d60655",
   "metadata": {},
   "outputs": [
    {
     "data": {
      "application/vnd.microsoft.datawrangler.viewer.v0+json": {
       "columns": [
        {
         "name": "index",
         "rawType": "int64",
         "type": "integer"
        },
        {
         "name": "Review",
         "rawType": "object",
         "type": "string"
        },
        {
         "name": "Liked",
         "rawType": "int64",
         "type": "integer"
        }
       ],
       "ref": "d6624c7f-edab-4af3-a83d-6639b73bb395",
       "rows": [
        [
         "0",
         "Wow... Loved this place.",
         "1"
        ],
        [
         "1",
         "Crust is not good.",
         "0"
        ],
        [
         "2",
         "Not tasty and the texture was just nasty.",
         "0"
        ],
        [
         "3",
         "Stopped by during the late May bank holiday off Rick Steve recommendation and loved it.",
         "1"
        ],
        [
         "4",
         "The selection on the menu was great and so were the prices.",
         "1"
        ],
        [
         "5",
         "Now I am getting angry and I want my damn pho.",
         "0"
        ],
        [
         "6",
         "Honeslty it didn't taste THAT fresh.)",
         "0"
        ],
        [
         "7",
         "The potatoes were like rubber and you could tell they had been made up ahead of time being kept under a warmer.",
         "0"
        ],
        [
         "8",
         "The fries were great too.",
         "1"
        ],
        [
         "9",
         "A great touch.",
         "1"
        ],
        [
         "10",
         "Service was very prompt.",
         "1"
        ],
        [
         "11",
         "Would not go back.",
         "0"
        ],
        [
         "12",
         "The cashier had no care what so ever on what I had to say it still ended up being wayyy overpriced.",
         "0"
        ],
        [
         "13",
         "I tried the Cape Cod ravoli, chicken, with cranberry...mmmm!",
         "1"
        ],
        [
         "14",
         "I was disgusted because I was pretty sure that was human hair.",
         "0"
        ],
        [
         "15",
         "I was shocked because no signs indicate cash only.",
         "0"
        ],
        [
         "16",
         "Highly recommended.",
         "1"
        ],
        [
         "17",
         "Waitress was a little slow in service.",
         "0"
        ],
        [
         "18",
         "This place is not worth your time, let alone Vegas.",
         "0"
        ],
        [
         "19",
         "did not like at all.",
         "0"
        ],
        [
         "20",
         "The Burrittos Blah!",
         "0"
        ],
        [
         "21",
         "The food, amazing.",
         "1"
        ],
        [
         "22",
         "Service is also cute.",
         "1"
        ],
        [
         "23",
         "I could care less... The interior is just beautiful.",
         "1"
        ],
        [
         "24",
         "So they performed.",
         "1"
        ],
        [
         "25",
         "That's right....the red velvet cake.....ohhh this stuff is so good.",
         "1"
        ],
        [
         "26",
         "- They never brought a salad we asked for.",
         "0"
        ],
        [
         "27",
         "This hole in the wall has great Mexican street tacos, and friendly staff.",
         "1"
        ],
        [
         "28",
         "Took an hour to get our food only 4 tables in restaurant my food was Luke warm, Our sever was running around like he was totally overwhelmed.",
         "0"
        ],
        [
         "29",
         "The worst was the salmon sashimi.",
         "0"
        ],
        [
         "30",
         "Also there are combos like a burger, fries, and beer for 23 which is a decent deal.",
         "1"
        ],
        [
         "31",
         "This was like the final blow!",
         "0"
        ],
        [
         "32",
         "I found this place by accident and I could not be happier.",
         "1"
        ],
        [
         "33",
         "seems like a good quick place to grab a bite of some familiar pub food, but do yourself a favor and look elsewhere.",
         "0"
        ],
        [
         "34",
         "Overall, I like this place a lot.",
         "1"
        ],
        [
         "35",
         "The only redeeming quality of the restaurant was that it was very inexpensive.",
         "1"
        ],
        [
         "36",
         "Ample portions and good prices.",
         "1"
        ],
        [
         "37",
         "Poor service, the waiter made me feel like I was stupid every time he came to the table.",
         "0"
        ],
        [
         "38",
         "My first visit to Hiro was a delight!",
         "1"
        ],
        [
         "39",
         "Service sucks.",
         "0"
        ],
        [
         "40",
         "The shrimp tender and moist.",
         "1"
        ],
        [
         "41",
         "There is not a deal good enough that would drag me into that establishment again.",
         "0"
        ],
        [
         "42",
         "Hard to judge whether these sides were good because we were grossed out by the melted styrofoam and didn't want to eat it for fear of getting sick.",
         "0"
        ],
        [
         "43",
         "On a positive note, our server was very attentive and provided great service.",
         "1"
        ],
        [
         "44",
         "Frozen pucks of disgust, with some of the worst people behind the register.",
         "0"
        ],
        [
         "45",
         "The only thing I did like was the prime rib and dessert section.",
         "1"
        ],
        [
         "46",
         "It's too bad the food is so damn generic.",
         "0"
        ],
        [
         "47",
         "The burger is good beef, cooked just right.",
         "1"
        ],
        [
         "48",
         "If you want a sandwich just go to any Firehouse!!!!!",
         "1"
        ],
        [
         "49",
         "My side Greek salad with the Greek dressing was so tasty, and the pita and hummus was very refreshing.",
         "1"
        ]
       ],
       "shape": {
        "columns": 2,
        "rows": 1000
       }
      },
      "text/html": [
       "<div>\n",
       "<style scoped>\n",
       "    .dataframe tbody tr th:only-of-type {\n",
       "        vertical-align: middle;\n",
       "    }\n",
       "\n",
       "    .dataframe tbody tr th {\n",
       "        vertical-align: top;\n",
       "    }\n",
       "\n",
       "    .dataframe thead th {\n",
       "        text-align: right;\n",
       "    }\n",
       "</style>\n",
       "<table border=\"1\" class=\"dataframe\">\n",
       "  <thead>\n",
       "    <tr style=\"text-align: right;\">\n",
       "      <th></th>\n",
       "      <th>Review</th>\n",
       "      <th>Liked</th>\n",
       "    </tr>\n",
       "  </thead>\n",
       "  <tbody>\n",
       "    <tr>\n",
       "      <th>0</th>\n",
       "      <td>Wow... Loved this place.</td>\n",
       "      <td>1</td>\n",
       "    </tr>\n",
       "    <tr>\n",
       "      <th>1</th>\n",
       "      <td>Crust is not good.</td>\n",
       "      <td>0</td>\n",
       "    </tr>\n",
       "    <tr>\n",
       "      <th>2</th>\n",
       "      <td>Not tasty and the texture was just nasty.</td>\n",
       "      <td>0</td>\n",
       "    </tr>\n",
       "    <tr>\n",
       "      <th>3</th>\n",
       "      <td>Stopped by during the late May bank holiday of...</td>\n",
       "      <td>1</td>\n",
       "    </tr>\n",
       "    <tr>\n",
       "      <th>4</th>\n",
       "      <td>The selection on the menu was great and so wer...</td>\n",
       "      <td>1</td>\n",
       "    </tr>\n",
       "    <tr>\n",
       "      <th>...</th>\n",
       "      <td>...</td>\n",
       "      <td>...</td>\n",
       "    </tr>\n",
       "    <tr>\n",
       "      <th>995</th>\n",
       "      <td>I think food should have flavor and texture an...</td>\n",
       "      <td>0</td>\n",
       "    </tr>\n",
       "    <tr>\n",
       "      <th>996</th>\n",
       "      <td>Appetite instantly gone.</td>\n",
       "      <td>0</td>\n",
       "    </tr>\n",
       "    <tr>\n",
       "      <th>997</th>\n",
       "      <td>Overall I was not impressed and would not go b...</td>\n",
       "      <td>0</td>\n",
       "    </tr>\n",
       "    <tr>\n",
       "      <th>998</th>\n",
       "      <td>The whole experience was underwhelming, and I ...</td>\n",
       "      <td>0</td>\n",
       "    </tr>\n",
       "    <tr>\n",
       "      <th>999</th>\n",
       "      <td>Then, as if I hadn't wasted enough of my life ...</td>\n",
       "      <td>0</td>\n",
       "    </tr>\n",
       "  </tbody>\n",
       "</table>\n",
       "<p>1000 rows × 2 columns</p>\n",
       "</div>"
      ],
      "text/plain": [
       "                                                Review  Liked\n",
       "0                             Wow... Loved this place.      1\n",
       "1                                   Crust is not good.      0\n",
       "2            Not tasty and the texture was just nasty.      0\n",
       "3    Stopped by during the late May bank holiday of...      1\n",
       "4    The selection on the menu was great and so wer...      1\n",
       "..                                                 ...    ...\n",
       "995  I think food should have flavor and texture an...      0\n",
       "996                           Appetite instantly gone.      0\n",
       "997  Overall I was not impressed and would not go b...      0\n",
       "998  The whole experience was underwhelming, and I ...      0\n",
       "999  Then, as if I hadn't wasted enough of my life ...      0\n",
       "\n",
       "[1000 rows x 2 columns]"
      ]
     },
     "execution_count": 3,
     "metadata": {},
     "output_type": "execute_result"
    }
   ],
   "source": [
    "data"
   ]
  },
  {
   "cell_type": "code",
   "execution_count": null,
   "id": "63a01072",
   "metadata": {},
   "outputs": [],
   "source": []
  }
 ],
 "metadata": {
  "kernelspec": {
   "display_name": "Python 3",
   "language": "python",
   "name": "python3"
  },
  "language_info": {
   "codemirror_mode": {
    "name": "ipython",
    "version": 3
   },
   "file_extension": ".py",
   "mimetype": "text/x-python",
   "name": "python",
   "nbconvert_exporter": "python",
   "pygments_lexer": "ipython3",
   "version": "3.12.3"
  }
 },
 "nbformat": 4,
 "nbformat_minor": 5
}
